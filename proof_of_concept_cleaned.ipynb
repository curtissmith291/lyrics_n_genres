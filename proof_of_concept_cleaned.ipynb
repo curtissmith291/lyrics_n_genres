{
 "cells": [
  {
   "cell_type": "code",
   "execution_count": 49,
   "metadata": {},
   "outputs": [],
   "source": [
    "# Import Dependencies\n",
    "import requests\n",
    "import lyricsgenius\n",
    "import time\n",
    "import spotipy\n",
    "from spotipy.oauth2 import SpotifyClientCredentials"
   ]
  },
  {
   "cell_type": "code",
   "execution_count": 50,
   "metadata": {},
   "outputs": [],
   "source": [
    "# Set Access Tokens and Credentials\n",
    "# NOTE: Make these imports for the final project!!!!!\n",
    "genius_token = 'G1xeYkQBe8vtQ6ccWONQiN0Gam2v1Vq4mla9banw9prsfKTI4cWjXq_Jemxxne0w'\n",
    "spotify_id = 'ddc76410ce5b4eecbbbe641953c92266'\n",
    "spotify_secret = 'df4777a3cf884456a66d296168097cf3'"
   ]
  },
  {
   "cell_type": "code",
   "execution_count": 51,
   "metadata": {},
   "outputs": [],
   "source": [
    "# Initialize lyricgenius Class\n",
    "genius = lyricsgenius.Genius(genius_token)"
   ]
  },
  {
   "cell_type": "code",
   "execution_count": 52,
   "metadata": {},
   "outputs": [],
   "source": [
    "# Test List of Artists and Songs\n",
    "test_list = [\n",
    "    {\"song\":\"Here Comes the Sun\", \"artist\":\"The Beetles\"},\n",
    "    {\"song\":\"The Night We Met\", \"artist\":\"Lord Huron\"},\n",
    "    {\"song\":\"Peaches\", \"artist\":\"The Presidents of the United States of America\"},\n",
    "    {\"song\":\"Longview\", \"artist\":\"Green Day\"},\n",
    "    {\"song\":\"Coronor\", \"artist\":\"Lando Chill\"},\n",
    "    {\"song\":\"Everlong\", \"artist\":\"Foo Fighters\"}\n",
    "]"
   ]
  },
  {
   "cell_type": "code",
   "execution_count": 53,
   "metadata": {},
   "outputs": [
    {
     "name": "stdout",
     "output_type": "stream",
     "text": [
      "Searching for \"Here Comes the Sun\" by The Beetles...\n",
      "Done.\n",
      "Searching for \"The Night We Met\" by Lord Huron...\n",
      "Done.\n",
      "Searching for \"Peaches\" by The Presidents of the United States of America...\n",
      "Done.\n",
      "Searching for \"Longview\" by Green Day...\n",
      "Done.\n",
      "Searching for \"Coronor\" by Lando Chill...\n",
      "Done.\n",
      "Searching for \"Everlong\" by Foo Fighters...\n",
      "Done.\n",
      "finished\n",
      "Ran in 3.5672590732574463 seconds\n",
      "There were 0 errors\n"
     ]
    }
   ],
   "source": [
    "# Initialize Results List and Error List\n",
    "results = []\n",
    "errors = []\n",
    "\n",
    "# Retrieve Song Lyrics\n",
    "\n",
    "start = time.time()\n",
    "\n",
    "for item in test_list:\n",
    "    try:\n",
    "        song = genius.search_song(item[\"song\"], artist = item[\"artist\"])\n",
    "        temp_dict = {\"song\":item[\"song\"],\n",
    "                     \"artist\": item[\"artist\"],\n",
    "                     \"artist_id\": \"\",\n",
    "                     \"album\": \"\",\n",
    "                     \"artist_genre(s)\":[], \n",
    "                     \"album_genre(s)\":[],\n",
    "                     \"lyrics\": song.lyrics,\n",
    "                     \"audio_features\": {}\n",
    "                    } \n",
    "        results.append(temp_dict)\n",
    "    except:\n",
    "        temp_dict = {\"song\":item[\"song\"],\n",
    "                     \"artist\": item[\"artist\"],\n",
    "                     \"lyrics\": \"null\"\n",
    "                    }\n",
    "        errors.append(temp_dict)\n",
    "print(\"finished\")\n",
    "duration = time.time() - start\n",
    "print(f'Ran in {duration} seconds')\n",
    "print(f'There were {len(errors)} errors')"
   ]
  },
  {
   "cell_type": "code",
   "execution_count": 54,
   "metadata": {},
   "outputs": [
    {
     "data": {
      "text/plain": [
       "{'song': 'Here Comes the Sun',\n",
       " 'artist': 'The Beetles',\n",
       " 'artist_id': '',\n",
       " 'album': '',\n",
       " 'artist_genre(s)': [],\n",
       " 'album_genre(s)': [],\n",
       " 'lyrics': \"[Chorus]\\nHere comes the sun, doo da doo doo\\nHere comes the sun, and I say\\nIt's all right\\n\\n[Verse 1]\\nLittle darling, it's been a long cold lonely winter\\nLittle darling, it feels like years since it's been here\\n\\n[Chorus]\\nHere comes the sun, doo da doo doo\\nHere comes the sun, and I say\\nIt's all right\\n\\n[Verse 2]\\nLittle darling, the smile's returning to the faces\\nLittle darling, it seems like years since it's been here\\n\\n[Chorus]\\nHere comes the sun\\nHere comes the sun, and I say\\nIt's all right\\n\\n[Bridge]\\nSun, sun, sun, here it comes\\nSun, sun, sun, here it comes\\nSun, sun, sun, here it comes\\nSun, sun, sun, here it comes\\nSun, sun, sun, here it comes\\n[Verse 3]\\nLittle darling, I feel that ice is slowly melting\\nLittle darling, it seems like years since it's been clear\\n\\n[Chorus]\\nHere comes the sun, doo da doo doo\\nHere comes the sun, and I say\\nIt's all right\\n\\n[Outro]\\nHere comes the sun, doo da doo doo\\nHere comes the sun\\nIt's all right\\nIt's all right51EmbedShare URLCopyEmbedCopy\",\n",
       " 'audio_features': {}}"
      ]
     },
     "execution_count": 54,
     "metadata": {},
     "output_type": "execute_result"
    }
   ],
   "source": [
    "# View first result item\n",
    "results[0]"
   ]
  },
  {
   "cell_type": "code",
   "execution_count": 55,
   "metadata": {},
   "outputs": [],
   "source": [
    "# Initialize Spotipy Class\n",
    "sp = spotipy.Spotify(auth_manager=SpotifyClientCredentials(client_id=spotify_id, client_secret=spotify_secret))"
   ]
  },
  {
   "cell_type": "code",
   "execution_count": 56,
   "metadata": {},
   "outputs": [],
   "source": [
    "# Iterate through results add artist Spotify ID\n",
    "for item in results:\n",
    "    sp_result = sp.search(item[\"artist\"])\n",
    "    artist_id = sp_result['tracks']['items'][0][\"album\"][\"artists\"][0][\"id\"]\n",
    "    item[\"artist_id\"]=artist_id"
   ]
  },
  {
   "cell_type": "code",
   "execution_count": 57,
   "metadata": {},
   "outputs": [
    {
     "data": {
      "text/plain": [
       "{'song': 'Here Comes the Sun',\n",
       " 'artist': 'The Beetles',\n",
       " 'artist_id': '3WrFJ7ztbogyGnTHbHJFl2',\n",
       " 'album': '',\n",
       " 'artist_genre(s)': [],\n",
       " 'album_genre(s)': [],\n",
       " 'lyrics': \"[Chorus]\\nHere comes the sun, doo da doo doo\\nHere comes the sun, and I say\\nIt's all right\\n\\n[Verse 1]\\nLittle darling, it's been a long cold lonely winter\\nLittle darling, it feels like years since it's been here\\n\\n[Chorus]\\nHere comes the sun, doo da doo doo\\nHere comes the sun, and I say\\nIt's all right\\n\\n[Verse 2]\\nLittle darling, the smile's returning to the faces\\nLittle darling, it seems like years since it's been here\\n\\n[Chorus]\\nHere comes the sun\\nHere comes the sun, and I say\\nIt's all right\\n\\n[Bridge]\\nSun, sun, sun, here it comes\\nSun, sun, sun, here it comes\\nSun, sun, sun, here it comes\\nSun, sun, sun, here it comes\\nSun, sun, sun, here it comes\\n[Verse 3]\\nLittle darling, I feel that ice is slowly melting\\nLittle darling, it seems like years since it's been clear\\n\\n[Chorus]\\nHere comes the sun, doo da doo doo\\nHere comes the sun, and I say\\nIt's all right\\n\\n[Outro]\\nHere comes the sun, doo da doo doo\\nHere comes the sun\\nIt's all right\\nIt's all right51EmbedShare URLCopyEmbedCopy\",\n",
       " 'audio_features': {}}"
      ]
     },
     "execution_count": 57,
     "metadata": {},
     "output_type": "execute_result"
    }
   ],
   "source": [
    "# View first result item\n",
    "results[0]"
   ]
  },
  {
   "cell_type": "code",
   "execution_count": 58,
   "metadata": {},
   "outputs": [],
   "source": [
    "# Initialize Spotify API v.2\n",
    "AUTH_URL = 'https://accounts.spotify.com/api/token'\n",
    "\n",
    "auth_response = requests.post(AUTH_URL, {\n",
    "    'grant_type': 'client_credentials',\n",
    "    'client_id': spotify_id,\n",
    "    'client_secret': spotify_secret,\n",
    "})\n",
    "\n",
    "# convert the response to JSON\n",
    "auth_response_data = auth_response.json()\n",
    "\n",
    "# save the access token\n",
    "access_token = auth_response_data['access_token']\n",
    "\n",
    "headers = {\n",
    "    'Authorization': 'Bearer {token}'.format(token=access_token)\n",
    "}\n",
    "BASE_URL = 'https://api.spotify.com/v1/'"
   ]
  },
  {
   "cell_type": "code",
   "execution_count": 60,
   "metadata": {},
   "outputs": [
    {
     "name": "stdout",
     "output_type": "stream",
     "text": [
      "['beatlesque', 'british invasion', 'classic rock', 'merseybeat', 'psychedelic rock', 'rock']\n",
      "['beatlesque', 'british invasion', 'classic rock', 'merseybeat', 'psychedelic rock', 'rock']\n",
      "['beatlesque', 'british invasion', 'classic rock', 'merseybeat', 'psychedelic rock', 'rock']\n",
      "['beatlesque', 'british invasion', 'classic rock', 'merseybeat', 'psychedelic rock', 'rock']\n",
      "['beatlesque', 'british invasion', 'classic rock', 'merseybeat', 'psychedelic rock', 'rock']\n",
      "['beatlesque', 'british invasion', 'classic rock', 'merseybeat', 'psychedelic rock', 'rock']\n",
      "['beatlesque', 'british invasion', 'classic rock', 'merseybeat', 'psychedelic rock', 'rock']\n",
      "['beatlesque', 'british invasion', 'classic rock', 'merseybeat', 'psychedelic rock', 'rock']\n",
      "['beatlesque', 'british invasion', 'classic rock', 'merseybeat', 'psychedelic rock', 'rock']\n",
      "['beatlesque', 'british invasion', 'classic rock', 'merseybeat', 'psychedelic rock', 'rock']\n",
      "['beatlesque', 'british invasion', 'classic rock', 'merseybeat', 'psychedelic rock', 'rock']\n",
      "['beatlesque', 'british invasion', 'classic rock', 'merseybeat', 'psychedelic rock', 'rock']\n",
      "['beatlesque', 'british invasion', 'classic rock', 'merseybeat', 'psychedelic rock', 'rock']\n",
      "['beatlesque', 'british invasion', 'classic rock', 'merseybeat', 'psychedelic rock', 'rock']\n",
      "['beatlesque', 'british invasion', 'classic rock', 'merseybeat', 'psychedelic rock', 'rock']\n",
      "['beatlesque', 'british invasion', 'classic rock', 'merseybeat', 'psychedelic rock', 'rock']\n",
      "['beatlesque', 'british invasion', 'classic rock', 'merseybeat', 'psychedelic rock', 'rock']\n",
      "['beatlesque', 'british invasion', 'classic rock', 'merseybeat', 'psychedelic rock', 'rock']\n",
      "['beatlesque', 'british invasion', 'classic rock', 'merseybeat', 'psychedelic rock', 'rock']\n",
      "['beatlesque', 'british invasion', 'classic rock', 'merseybeat', 'psychedelic rock', 'rock']\n",
      "['beatlesque', 'british invasion', 'classic rock', 'merseybeat', 'psychedelic rock', 'rock']\n",
      "['beatlesque', 'british invasion', 'classic rock', 'merseybeat', 'psychedelic rock', 'rock']\n",
      "['beatlesque', 'british invasion', 'classic rock', 'merseybeat', 'psychedelic rock', 'rock']\n",
      "['beatlesque', 'british invasion', 'classic rock', 'merseybeat', 'psychedelic rock', 'rock']\n",
      "The Beetles ['beatlesque', 'british invasion', 'classic rock', 'merseybeat', 'psychedelic rock', 'rock']\n",
      "['indie folk', 'stomp and holler']\n",
      "['indie folk', 'stomp and holler']\n",
      "['indie folk', 'stomp and holler']\n",
      "['indie folk', 'stomp and holler']\n",
      "['indie folk', 'stomp and holler']\n",
      "['indie folk', 'stomp and holler']\n",
      "['indie folk', 'stomp and holler']\n",
      "['indie folk', 'stomp and holler']\n",
      "['indie folk', 'stomp and holler']\n",
      "Lord Huron ['indie folk', 'stomp and holler']\n",
      "['alternative metal', 'alternative rock', 'grunge', 'pop rock', 'rap rock', 'rock']\n",
      "['alternative metal', 'alternative rock', 'grunge', 'pop rock', 'rap rock', 'rock']\n",
      "['alternative metal', 'alternative rock', 'grunge', 'pop rock', 'rap rock', 'rock']\n",
      "['alternative metal', 'alternative rock', 'grunge', 'pop rock', 'rap rock', 'rock']\n",
      "['alternative metal', 'alternative rock', 'grunge', 'pop rock', 'rap rock', 'rock']\n",
      "['alternative metal', 'alternative rock', 'grunge', 'pop rock', 'rap rock', 'rock']\n",
      "['alternative metal', 'alternative rock', 'grunge', 'pop rock', 'rap rock', 'rock']\n",
      "['alternative metal', 'alternative rock', 'grunge', 'pop rock', 'rap rock', 'rock']\n",
      "['alternative metal', 'alternative rock', 'grunge', 'pop rock', 'rap rock', 'rock']\n",
      "['alternative metal', 'alternative rock', 'grunge', 'pop rock', 'rap rock', 'rock']\n",
      "['alternative metal', 'alternative rock', 'grunge', 'pop rock', 'rap rock', 'rock']\n",
      "['alternative metal', 'alternative rock', 'grunge', 'pop rock', 'rap rock', 'rock']\n",
      "['alternative metal', 'alternative rock', 'grunge', 'pop rock', 'rap rock', 'rock']\n",
      "['alternative metal', 'alternative rock', 'grunge', 'pop rock', 'rap rock', 'rock']\n",
      "The Presidents of the United States of America ['alternative metal', 'alternative rock', 'grunge', 'pop rock', 'rap rock', 'rock']\n",
      "['permanent wave', 'pop punk', 'punk']\n",
      "[]\n",
      "['permanent wave', 'pop punk', 'punk']\n",
      "['permanent wave', 'pop punk', 'punk']\n",
      "['permanent wave', 'pop punk', 'punk']\n",
      "['permanent wave', 'pop punk', 'punk']\n",
      "['permanent wave', 'pop punk', 'punk']\n",
      "['permanent wave', 'pop punk', 'punk']\n",
      "['permanent wave', 'pop punk', 'punk']\n",
      "['permanent wave', 'pop punk', 'punk']\n",
      "['permanent wave', 'pop punk', 'punk']\n",
      "['permanent wave', 'pop punk', 'punk']\n",
      "['permanent wave', 'pop punk', 'punk']\n",
      "['permanent wave', 'pop punk', 'punk']\n",
      "['permanent wave', 'pop punk', 'punk']\n",
      "['permanent wave', 'pop punk', 'punk']\n",
      "['permanent wave', 'pop punk', 'punk']\n",
      "['permanent wave', 'pop punk', 'punk']\n",
      "['permanent wave', 'pop punk', 'punk']\n",
      "['permanent wave', 'pop punk', 'punk']\n",
      "['permanent wave', 'pop punk', 'punk']\n",
      "['permanent wave', 'pop punk', 'punk']\n",
      "['permanent wave', 'pop punk', 'punk']\n",
      "['permanent wave', 'pop punk', 'punk']\n",
      "['permanent wave', 'pop punk', 'punk']\n",
      "['permanent wave', 'pop punk', 'punk']\n",
      "['permanent wave', 'pop punk', 'punk']\n",
      "['permanent wave', 'pop punk', 'punk']\n",
      "['permanent wave', 'pop punk', 'punk']\n",
      "['permanent wave', 'pop punk', 'punk']\n",
      "['permanent wave', 'pop punk', 'punk']\n",
      "Green Day ['permanent wave', 'pop punk', 'punk']\n",
      "['psychedelic hip hop']\n",
      "['experimental hip hop', 'jazz rap']\n",
      "['experimental hip hop', 'jazz rap']\n",
      "['experimental hip hop', 'jazz rap']\n",
      "Lando Chill ['psychedelic hip hop', 'experimental hip hop', 'jazz rap']\n",
      "['alternative metal', 'alternative rock', 'modern rock', 'permanent wave', 'post-grunge', 'rock']\n",
      "['alternative metal', 'alternative rock', 'modern rock', 'permanent wave', 'post-grunge', 'rock']\n",
      "['alternative metal', 'alternative rock', 'modern rock', 'permanent wave', 'post-grunge', 'rock']\n",
      "['alternative metal', 'alternative rock', 'modern rock', 'permanent wave', 'post-grunge', 'rock']\n",
      "['alternative metal', 'alternative rock', 'modern rock', 'permanent wave', 'post-grunge', 'rock']\n",
      "['alternative metal', 'alternative rock', 'modern rock', 'permanent wave', 'post-grunge', 'rock']\n",
      "['alternative metal', 'alternative rock', 'modern rock', 'permanent wave', 'post-grunge', 'rock']\n",
      "['alternative metal', 'alternative rock', 'modern rock', 'permanent wave', 'post-grunge', 'rock']\n",
      "['alternative metal', 'alternative rock', 'modern rock', 'permanent wave', 'post-grunge', 'rock']\n",
      "['alternative metal', 'alternative rock', 'modern rock', 'permanent wave', 'post-grunge', 'rock']\n",
      "['alternative metal', 'alternative rock', 'modern rock', 'permanent wave', 'post-grunge', 'rock']\n",
      "['alternative metal', 'alternative rock', 'modern rock', 'permanent wave', 'post-grunge', 'rock']\n",
      "['alternative metal', 'alternative rock', 'modern rock', 'permanent wave', 'post-grunge', 'rock']\n",
      "Foo Fighters ['alternative metal', 'alternative rock', 'modern rock', 'permanent wave', 'post-grunge', 'rock']\n"
     ]
    }
   ],
   "source": [
    "# Iterate through results, search by artist ID\n",
    "# Get genres, add to list\n",
    "# If results song is in album, get album and audio features\n",
    "\n",
    "for item in results:\n",
    "    artist_id = item[\"artist_id\"]\n",
    "    artist_genres = []\n",
    "    r = requests.get(BASE_URL + 'artists/' + artist_id + '/albums', \n",
    "                 headers=headers, \n",
    "                 params={'include_groups': 'album', 'limit': 50})\n",
    "    d = r.json()\n",
    "    albums = d[\"items\"]\n",
    "    \n",
    "    for x in range(len(albums)):\n",
    "        album_name = albums[x][\"name\"]\n",
    "        \n",
    "        # Get genres associated with artist - not always consistent w/ album, so iterate though all albums\n",
    "        artist = sp.artist(albums[x][\"artists\"][0][\"external_urls\"][\"spotify\"])\n",
    "        genres = artist[\"genres\"]\n",
    "        print(genres)\n",
    "        for genre in genres:\n",
    "            if genre not in artist_genres:\n",
    "                artist_genres.append(genre)\n",
    "    print(item[\"artist\"], artist_genres)\n",
    "    item[\"artist_genre(s)\"] = artist_genres"
   ]
  },
  {
   "cell_type": "code",
   "execution_count": 43,
   "metadata": {},
   "outputs": [
    {
     "data": {
      "text/plain": [
       "{'external_urls': {'spotify': 'https://open.spotify.com/artist/7jy3rLJdDQY21OgRLCZ9sD'},\n",
       " 'followers': {'href': None, 'total': 9041044},\n",
       " 'genres': ['alternative metal',\n",
       "  'alternative rock',\n",
       "  'modern rock',\n",
       "  'permanent wave',\n",
       "  'post-grunge',\n",
       "  'rock'],\n",
       " 'href': 'https://api.spotify.com/v1/artists/7jy3rLJdDQY21OgRLCZ9sD',\n",
       " 'id': '7jy3rLJdDQY21OgRLCZ9sD',\n",
       " 'images': [{'height': 640,\n",
       "   'url': 'https://i.scdn.co/image/ab6761610000e5eb9a43b87b50cd3d03544bb3e5',\n",
       "   'width': 640},\n",
       "  {'height': 320,\n",
       "   'url': 'https://i.scdn.co/image/ab676161000051749a43b87b50cd3d03544bb3e5',\n",
       "   'width': 320},\n",
       "  {'height': 160,\n",
       "   'url': 'https://i.scdn.co/image/ab6761610000f1789a43b87b50cd3d03544bb3e5',\n",
       "   'width': 160}],\n",
       " 'name': 'Foo Fighters',\n",
       " 'popularity': 81,\n",
       " 'type': 'artist',\n",
       " 'uri': 'spotify:artist:7jy3rLJdDQY21OgRLCZ9sD'}"
      ]
     },
     "execution_count": 43,
     "metadata": {},
     "output_type": "execute_result"
    }
   ],
   "source": [
    "artist"
   ]
  },
  {
   "cell_type": "code",
   "execution_count": 61,
   "metadata": {},
   "outputs": [
    {
     "data": {
      "text/plain": [
       "[{'song': 'Here Comes the Sun',\n",
       "  'artist': 'The Beetles',\n",
       "  'artist_id': '3WrFJ7ztbogyGnTHbHJFl2',\n",
       "  'album': '',\n",
       "  'artist_genre(s)': ['beatlesque',\n",
       "   'british invasion',\n",
       "   'classic rock',\n",
       "   'merseybeat',\n",
       "   'psychedelic rock',\n",
       "   'rock'],\n",
       "  'album_genre(s)': [],\n",
       "  'lyrics': \"[Chorus]\\nHere comes the sun, doo da doo doo\\nHere comes the sun, and I say\\nIt's all right\\n\\n[Verse 1]\\nLittle darling, it's been a long cold lonely winter\\nLittle darling, it feels like years since it's been here\\n\\n[Chorus]\\nHere comes the sun, doo da doo doo\\nHere comes the sun, and I say\\nIt's all right\\n\\n[Verse 2]\\nLittle darling, the smile's returning to the faces\\nLittle darling, it seems like years since it's been here\\n\\n[Chorus]\\nHere comes the sun\\nHere comes the sun, and I say\\nIt's all right\\n\\n[Bridge]\\nSun, sun, sun, here it comes\\nSun, sun, sun, here it comes\\nSun, sun, sun, here it comes\\nSun, sun, sun, here it comes\\nSun, sun, sun, here it comes\\n[Verse 3]\\nLittle darling, I feel that ice is slowly melting\\nLittle darling, it seems like years since it's been clear\\n\\n[Chorus]\\nHere comes the sun, doo da doo doo\\nHere comes the sun, and I say\\nIt's all right\\n\\n[Outro]\\nHere comes the sun, doo da doo doo\\nHere comes the sun\\nIt's all right\\nIt's all right51EmbedShare URLCopyEmbedCopy\",\n",
       "  'audio_features': {}},\n",
       " {'song': 'The Night We Met',\n",
       "  'artist': 'Lord Huron',\n",
       "  'artist_id': '6ltzsmQQbmdoHHbLZ4ZN25',\n",
       "  'album': '',\n",
       "  'artist_genre(s)': ['indie folk', 'stomp and holler'],\n",
       "  'album_genre(s)': [],\n",
       "  'lyrics': \"[Intro]\\n(Ooh ooh ooh)\\n(Ooh ooh ooh)\\n(Ooh ooh ooh)\\n(Ooh ooh ooh)\\n\\n[Verse 1]\\nI am not the only traveler\\nWho has not repaid his debt\\nI've been searching for a trail to follow again\\nTake me back to the night we met\\n\\n[Verse 2]\\nAnd then I can tell myself\\nWhat the hell I'm supposed to do\\nAnd then I can tell myself\\nNot to ride along with you\\n\\n[Chorus]\\nI had all and then most of you\\nSome and now none of you\\nTake me back to the night we met\\nI don't know what I'm supposed to do\\nHaunted by the ghost of you\\nOh, take me back to the night we met\\n[Verse 3]\\nWhen the night was full of terrors\\nAnd your eyes were filled with tears\\nWhen you had not touched me yet\\nOh, take me back to the night we met\\n\\n[Chorus]\\nI had all and then most of you\\nSome and now none of you\\nTake me back to the night we met\\nI don't know what I'm supposed to do\\nHaunted by the ghost of you\\nTake me back to the night we met107EmbedShare URLCopyEmbedCopy\",\n",
       "  'audio_features': {}},\n",
       " {'song': 'Peaches',\n",
       "  'artist': 'The Presidents of the United States of America',\n",
       "  'artist_id': '1lZvg4fNAqHoj6I9N8naBM',\n",
       "  'album': '',\n",
       "  'artist_genre(s)': ['alternative metal',\n",
       "   'alternative rock',\n",
       "   'grunge',\n",
       "   'pop rock',\n",
       "   'rap rock',\n",
       "   'rock'],\n",
       "  'album_genre(s)': [],\n",
       "  'lyrics': \"[Chorus]\\nMovin' to the country\\nI'm gonna eat a lot of peaches\\nMovin' to the country\\nI'm gonna eat me a lot of peaches\\nMovin' to the country\\nI'm gonna eat a lot of peaches\\nMovin' to the country\\nI'm gonna eat a lot of peaches\\n\\n[Verse 1]\\nPeaches come from a can\\nThey were put there by a man\\nIn a factory downtown\\nIf I had my little way\\nI'd eat peaches every day\\nSun-soakin' bulges in the shade\\n\\n[Chorus]\\nMovin' to the country\\nI'm gonna eat a lot of peaches\\nMovin' to the country\\nI'm gonna eat me a lot of peaches\\nMovin' to the country\\nI'm gonna eat a lot of peaches\\nMovin' to the country\\nI'm gonna eat a lot of peaches\\n[Verse 2]\\nI took a little nap where the roots all twist\\nSquished a rotten peach in my fist\\nAnd dreamed about you, woman\\nI poked my finger down inside\\nMake a little room for an ant to hide\\nNature's candy in my hand or can or a pie\\n\\n[Outro]\\nMillions of peaches, peaches for me\\nMillions of peaches, peaches for free\\nMillions of peaches, peaches for me\\nMillions of peaches, peaches for free (Look out!)\\nMillions of peaches, peaches for me\\nMillions of peaches, peaches for free\\nMillions of peaches, peaches for me\\nMillions of peaches, peaches for free\\nMillions of peaches, peaches for me\\nMillions of peaches, peaches for free\\nMillions of peaches, peaches for me\\nMillions of peaches, peaches for free (Look out!)4EmbedShare URLCopyEmbedCopy\",\n",
       "  'audio_features': {}},\n",
       " {'song': 'Longview',\n",
       "  'artist': 'Green Day',\n",
       "  'artist_id': '7oPftvlwr6VrsViSDV7fJY',\n",
       "  'album': '',\n",
       "  'artist_genre(s)': ['permanent wave', 'pop punk', 'punk'],\n",
       "  'album_genre(s)': [],\n",
       "  'lyrics': \"[Bass Solo]\\n\\n[Verse 1]\\nI sit around and watch the tube, but nothing's on\\nI change the channels for an hour or two\\nTwiddle my thumbs just for a bit\\nI'm sick of all the same old shit\\nIn a house with unlocked doors, and I'm fuckin' lazy\\n\\n[Chorus]\\nBite my lip and close my eyes\\nTake me away to paradise\\nI'm so damn bored, I'm going blind\\nAnd I smell like shit\\n\\n[Verse 2]\\nPeel me off this velcro seat and get me moving\\nI sure as hell can't do it by myself\\nI'm feeling like a dog in heat\\nBarred indoors from the summer street\\nI locked the door to my own cell and I lost the key\\n\\n[Chorus]\\nBite my lip and close my eyes\\nTake me away to paradise\\nI'm so damn bored, I'm going blind\\nAnd I smell like shit\\n[Bridge]\\nI got no motivation\\nWhere is my motivation?\\nNo time for motivation\\nSmoking my inspiration, huh!\\n\\n[Verse 3]\\nI sit around and watch the phone, but no one's calling\\nCall me pathetic, call me what you will (We will!)\\nMy mother says to get a job\\nBut she don't like the one she's got\\nWhen masturbation's lost its fun, you're fucking lonely\\n\\n[Chorus]\\nBite my lip and close my eyes\\nTake me away to paradise\\nI'm so damn bored, I'm going blind\\nAnd loneliness has to suffice\\nBite my lip and close my eyes\\nI'm tripping away to paradise\\nSome say quit or I'll go blind\\nBut it's just a myth35EmbedShare URLCopyEmbedCopy\",\n",
       "  'audio_features': {}},\n",
       " {'song': 'Coronor',\n",
       "  'artist': 'Lando Chill',\n",
       "  'artist_id': '2TzDFGYjzVbaSEA3msOpqI',\n",
       "  'album': '',\n",
       "  'artist_genre(s)': ['psychedelic hip hop',\n",
       "   'experimental hip hop',\n",
       "   'jazz rap'],\n",
       "  'album_genre(s)': [],\n",
       "  'lyrics': \"[Verse 1]\\nWe make shit friends just to meet an end\\nOr feign false hope with no hand to lend\\nWhile everybody's dreams are around the bend\\nEverything ain't what it seems, it seems\\nSee I tend to hoard regret\\nYou shunned every rejection\\nMade plenty of missteps\\nStill my heart ain't learned it's lesson\\nI'll fight myself out of this pain and this depression\\nOoh, ooh\\n\\nI'm not the man you believe in\\nSee I'm just a man you were leaving\\nI guess we move along like the seasons\\nI'm reeling, baby what's the reason\\n\\n[Chorus]\\nThe coroner comes along, autopsy done\\nBut still my body prays\\nThere's no more to say, no more to pay\\nNo world to save\\n\\nThe coroner comes along, autopsy done\\nAnd still my body prays\\nThere's no more to say, no more to pay\\nNo world to save\\nNo, no world to save\\n[Verse 2]\\nI lost friends I needed the most\\nGuess this is life living on the West Coast\\nWhere everybody boasts through internet posts\\nA blue checkmark means you're better than most\\nThe words of the fallen get forgotten\\nIf it ain't on the screen then homie then it ain't popping\\nWe stay cropping out portions of our lives\\nPretty pieces of a very petty pie\\n\\n[Chorus]\\nThe coroner comes along, autopsy done\\nBut still my body prays\\nThere's no more to say, no more to pay\\nNo world to save\\n\\nThe coroner comes along, autopsy done\\nAnd still my body prays\\nThere's no more to say, no more to pay\\nNo world to save\\n\\nThe coroner comes along, autopsy done\\nBut still my body prays\\nThere's no more to say, no more to pay\\nNo world to save\\nThe coroner comes along, autopsy done\\nAnd still my body prays\\nThere's no more to say, no more to pay\\nNo world to save\\nNo, no world to save2EmbedShare URLCopyEmbedCopy\",\n",
       "  'audio_features': {}},\n",
       " {'song': 'Everlong',\n",
       "  'artist': 'Foo Fighters',\n",
       "  'artist_id': '7jy3rLJdDQY21OgRLCZ9sD',\n",
       "  'album': '',\n",
       "  'artist_genre(s)': ['alternative metal',\n",
       "   'alternative rock',\n",
       "   'modern rock',\n",
       "   'permanent wave',\n",
       "   'post-grunge',\n",
       "   'rock'],\n",
       "  'album_genre(s)': [],\n",
       "  'lyrics': \"[Verse 1]\\nHello, I've waited here for you\\nEverlong\\nTonight, I throw myself into\\nAnd out of the red\\nOut of her head, she sang\\n\\n[Verse 2]\\nCome down, and waste away with me\\nDown with me\\nSlow how you wanted it to be\\nI'm over my head\\nOut of her head, she sang\\n\\n[Pre-Chorus]\\nAnd I wonder\\nWhen I sing along with you\\n\\n[Chorus]\\nIf everything could ever feel this real forever\\nIf anything could ever be this good again\\nThe only thing I'll ever ask of you\\nYou've got to promise not to stop when I say when\\nShe sang\\n\\n[Verse 3]\\nBreathe out, so I can breathe you in\\nHold you in\\nAnd now I know you've always been\\nAnd out of your head, out of my head I sang\\n[Pre-Chorus]\\nAnd I wonder\\nWhen I sing along with you\\n\\n[Chorus]\\nIf everything could ever feel this real forever\\nIf anything could ever be this good again\\nThe only thing I'll ever ask of you\\nYou've got to promise not to stop when I say when\\nShe sang\\n\\n[Instrumental Break with whispering voices]\\n\\n[Pre-Chorus]\\nAnd I wonder\\n\\n[Chorus]\\nIf everything could ever feel this real forever\\nIf anything could ever be this good again\\nThe only thing I'll ever ask of you\\nYou've got to promise not to stop when I say when116EmbedShare URLCopyEmbedCopy\",\n",
       "  'audio_features': {}}]"
      ]
     },
     "execution_count": 61,
     "metadata": {},
     "output_type": "execute_result"
    }
   ],
   "source": [
    "results"
   ]
  },
  {
   "cell_type": "code",
   "execution_count": null,
   "metadata": {},
   "outputs": [],
   "source": []
  }
 ],
 "metadata": {
  "kernelspec": {
   "display_name": "PythonData",
   "language": "python",
   "name": "pythondata"
  },
  "language_info": {
   "codemirror_mode": {
    "name": "ipython",
    "version": 3
   },
   "file_extension": ".py",
   "mimetype": "text/x-python",
   "name": "python",
   "nbconvert_exporter": "python",
   "pygments_lexer": "ipython3",
   "version": "3.7.9"
  }
 },
 "nbformat": 4,
 "nbformat_minor": 4
}
